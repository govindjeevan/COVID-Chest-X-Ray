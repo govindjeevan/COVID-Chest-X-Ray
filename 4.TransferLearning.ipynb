{
 "cells": [
  {
   "cell_type": "code",
   "execution_count": 1,
   "metadata": {},
   "outputs": [
    {
     "name": "stderr",
     "output_type": "stream",
     "text": [
      "Using TensorFlow backend.\n"
     ]
    }
   ],
   "source": [
    "import numpy as np\n",
    "import cv2\n",
    "import keras\n",
    "import glob\n",
    "import tensorflow as tf\n",
    "from sklearn.preprocessing import OneHotEncoder\n",
    "from keras.utils import to_categorical\n",
    "from keras.preprocessing.image import load_img\n",
    "from keras.preprocessing.image import img_to_array\n",
    "from keras.preprocessing.image import array_to_img\n",
    "from keras.models import Sequential\n",
    "from keras.layers import Conv2D\n",
    "from keras.layers import MaxPooling2D\n",
    "from keras.layers import Flatten\n",
    "from keras.layers import Dense\n",
    "from keras.layers import Dropout,  BatchNormalization , Activation\n",
    "from keras.preprocessing.image import ImageDataGenerator\n",
    "from keras.models import load_model\n",
    "from matplotlib import pyplot as plt\n",
    "from PIL import Image\n",
    "from tf_keras_vis.utils import print_gpus\n"
   ]
  },
  {
   "cell_type": "code",
   "execution_count": 4,
   "metadata": {},
   "outputs": [],
   "source": [
    "#npy for train data\n",
    "train = []\n",
    "train_labels = []\n",
    "files = glob.glob (\"output/train/0/*.jpg\") # your image path\n",
    "for myFile in files:\n",
    "    image = cv2.imread (myFile)\n",
    "    train.append (image)\n",
    "    train_labels.append([0])\n",
    "files = glob.glob (\"output/train/1/*.jpg\")\n",
    "for myFile in files:\n",
    "    image = cv2.imread (myFile)\n",
    "    train.append (image)\n",
    "    train_labels.append([1])\n",
    "files = glob.glob (\"output/train/2/*.jpg\")\n",
    "for myFile in files:\n",
    "    image = cv2.imread (myFile)\n",
    "    train.append (image)\n",
    "    train_labels.append([2])\n",
    "\n",
    "test = []\n",
    "test_labels = []\n",
    "files = glob.glob (\"output/test/0/*.jpg\") # your image path\n",
    "for myFile in files:\n",
    "    image = cv2.imread (myFile)\n",
    "    test.append (image)\n",
    "    test_labels.append([0])\n",
    "files = glob.glob (\"output/test/1/*.jpg\")\n",
    "for myFile in files:\n",
    "    image = cv2.imread (myFile)\n",
    "    test.append (image)\n",
    "    test_labels.append([1])\n",
    "files = glob.glob (\"output/test/2/*.jpg\")\n",
    "for myFile in files:\n",
    "    image = cv2.imread (myFile)\n",
    "    test.append (image)\n",
    "    test_labels.append([2])\n",
    "\n",
    "val = []\n",
    "val_labels = []\n",
    "files = glob.glob (\"output/val/0/*.jpg\") # your image path\n",
    "for myFile in files:\n",
    "    image = cv2.imread (myFile)\n",
    "    val.append (image)\n",
    "    val_labels.append([0])\n",
    "files = glob.glob (\"output/val/1/*.jpg\")\n",
    "for myFile in files:\n",
    "    image = cv2.imread (myFile)\n",
    "    val.append (image)\n",
    "    val_labels.append([1])\n",
    "files = glob.glob (\"output/val/2/*.jpg\")\n",
    "for myFile in files:\n",
    "    image = cv2.imread (myFile)\n",
    "    val.append (image)\n",
    "    val_labels.append([2])"
   ]
  },
  {
   "cell_type": "code",
   "execution_count": 5,
   "metadata": {},
   "outputs": [],
   "source": [
    "train = np.array(train) #as mnist\n",
    "train_labels = np.array(train_labels) #as mnist\n",
    "test = np.array(test) #as mnist\n",
    "test_labels = np.array(test_labels) #as mnist\n",
    "val = np.array(val) #as mnist\n",
    "val_labels = np.array(val_labels) #as mnist\n",
    "np.save('trainx.npy', train)\n",
    "np.save('trainy.npy',train_labels)\n",
    "np.save('testx.npy', test)\n",
    "np.save('testy.npy',test_labels)\n",
    "np.save('valx.npy', val)\n",
    "np.save('valy.npy',val_labels)"
   ]
  },
  {
   "cell_type": "code",
   "execution_count": 2,
   "metadata": {},
   "outputs": [],
   "source": [
    "train_x = np.load('trainx.npy')\n",
    "train_y = np.load('trainy.npy')\n",
    "val_x = np.load('valx.npy')\n",
    "val_y = np.load('valy.npy')"
   ]
  },
  {
   "cell_type": "code",
   "execution_count": 3,
   "metadata": {},
   "outputs": [],
   "source": [
    "IMG_SIZE = 300\n",
    "IMG_SHAPE = (IMG_SIZE, IMG_SIZE, 3)"
   ]
  },
  {
   "cell_type": "code",
   "execution_count": 4,
   "metadata": {},
   "outputs": [],
   "source": [
    "# Train, evaluate and save a Transfer Learning Model of ResNet50, VGG19 and DenseNet169\n",
    "\n",
    "base_model = tf.keras.applications.ResNet50(input_shape=IMG_SHAPE, include_top=False, weights='imagenet')\n",
    "base_model.trainable = False\n",
    "x = base_model.output\n",
    "x = tf.keras.layers.GlobalAveragePooling2D()(x)\n",
    "x = tf.keras.layers.Dense(4096, activation='relu')(x)\n",
    "x = tf.keras.layers.Dense(3, activation='softmax')(x)\n",
    "model_3 = tf.keras.models.Model(inputs=base_model.input, outputs=x)\n",
    "model_3.compile(optimizer='adam', loss='sparse_categorical_crossentropy', metrics=['accuracy'])"
   ]
  },
  {
   "cell_type": "code",
   "execution_count": 5,
   "metadata": {},
   "outputs": [
    {
     "name": "stdout",
     "output_type": "stream",
     "text": [
      "Epoch 1/12\n",
      "34/34 [==============================] - 152s 4s/step - loss: 0.9370 - accuracy: 0.8303 - val_loss: 0.2154 - val_accuracy: 0.9351\n",
      "Epoch 2/12\n",
      "34/34 [==============================] - 147s 4s/step - loss: 0.1379 - accuracy: 0.9508 - val_loss: 0.0796 - val_accuracy: 0.9684\n",
      "Epoch 3/12\n",
      "34/34 [==============================] - 148s 4s/step - loss: 0.0890 - accuracy: 0.9691 - val_loss: 0.1269 - val_accuracy: 0.9534\n",
      "Epoch 4/12\n",
      "34/34 [==============================] - 145s 4s/step - loss: 0.0951 - accuracy: 0.9644 - val_loss: 0.0686 - val_accuracy: 0.9734\n",
      "Epoch 5/12\n",
      "34/34 [==============================] - 260s 8s/step - loss: 0.0708 - accuracy: 0.9761 - val_loss: 0.1183 - val_accuracy: 0.9617\n",
      "Epoch 6/12\n",
      "34/34 [==============================] - 164s 5s/step - loss: 0.0636 - accuracy: 0.9756 - val_loss: 0.0952 - val_accuracy: 0.9684\n",
      "Epoch 7/12\n",
      "34/34 [==============================] - 297s 9s/step - loss: 0.0643 - accuracy: 0.9752 - val_loss: 0.1280 - val_accuracy: 0.9517\n",
      "Epoch 8/12\n",
      "34/34 [==============================] - 323s 9s/step - loss: 0.0383 - accuracy: 0.9855 - val_loss: 0.0732 - val_accuracy: 0.9767\n",
      "Epoch 9/12\n",
      "34/34 [==============================] - 311s 9s/step - loss: 0.0295 - accuracy: 0.9892 - val_loss: 0.0900 - val_accuracy: 0.9651\n",
      "Epoch 10/12\n",
      "34/34 [==============================] - 321s 9s/step - loss: 0.0328 - accuracy: 0.9897 - val_loss: 0.1333 - val_accuracy: 0.9551\n",
      "Epoch 11/12\n",
      "34/34 [==============================] - 318s 9s/step - loss: 0.0762 - accuracy: 0.9737 - val_loss: 0.1374 - val_accuracy: 0.9584\n",
      "Epoch 12/12\n",
      "34/34 [==============================] - 314s 9s/step - loss: 0.0293 - accuracy: 0.9878 - val_loss: 0.0926 - val_accuracy: 0.9717\n"
     ]
    },
    {
     "data": {
      "text/plain": [
       "<tensorflow.python.keras.callbacks.History at 0x7f7ef83bd588>"
      ]
     },
     "execution_count": 5,
     "metadata": {},
     "output_type": "execute_result"
    }
   ],
   "source": [
    "model_3.fit(train_x, train_y, epochs=12, batch_size=64, validation_data=(val_x, val_y))"
   ]
  },
  {
   "cell_type": "code",
   "execution_count": 6,
   "metadata": {},
   "outputs": [],
   "source": [
    "test_x = np.load('testx.npy')\n",
    "test_y = np.load('testy.npy')"
   ]
  },
  {
   "cell_type": "code",
   "execution_count": 7,
   "metadata": {},
   "outputs": [
    {
     "name": "stdout",
     "output_type": "stream",
     "text": [
      "19/19 [==============================] - 70s 4s/step - loss: 0.0604 - accuracy: 0.9801\n"
     ]
    }
   ],
   "source": [
    "results = model_3.evaluate(test_x, test_y)"
   ]
  },
  {
   "cell_type": "code",
   "execution_count": 8,
   "metadata": {},
   "outputs": [],
   "source": [
    "model_3.save('corona_resnet.h5') "
   ]
  }
 ],
 "metadata": {
  "kernelspec": {
   "display_name": "Python 3",
   "language": "python",
   "name": "python3"
  },
  "language_info": {
   "codemirror_mode": {
    "name": "ipython",
    "version": 3
   },
   "file_extension": ".py",
   "mimetype": "text/x-python",
   "name": "python",
   "nbconvert_exporter": "python",
   "pygments_lexer": "ipython3",
   "version": "3.6.8"
  }
 },
 "nbformat": 4,
 "nbformat_minor": 4
}
