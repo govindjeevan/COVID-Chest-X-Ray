{
 "cells": [
  {
   "cell_type": "code",
   "execution_count": 1,
   "metadata": {},
   "outputs": [
    {
     "name": "stderr",
     "output_type": "stream",
     "text": [
      "Using TensorFlow backend.\n"
     ]
    }
   ],
   "source": [
    "import numpy as np\n",
    "import cv2\n",
    "from sklearn.preprocessing import OneHotEncoder\n",
    "from keras.utils import to_categorical\n",
    "import glob\n",
    "from keras.preprocessing.image import load_img\n",
    "from keras.preprocessing.image import img_to_array\n",
    "from keras.preprocessing.image import array_to_img"
   ]
  },
  {
   "cell_type": "code",
   "execution_count": 24,
   "metadata": {},
   "outputs": [],
   "source": [
    "#npy for train data\n",
    "train = []\n",
    "train_labels = []\n",
    "files = glob.glob (\"/home/palak/CV-A2/output/train/0/*.jpg\") # your image path\n",
    "for myFile in files:\n",
    "    image = cv2.imread (myFile)\n",
    "    train.append (image)\n",
    "    train_labels.append([0])\n",
    "files = glob.glob (\"/home/palak/CV-A2/output/train/1/*.jpg\")\n",
    "for myFile in files:\n",
    "    image = cv2.imread (myFile)\n",
    "    train.append (image)\n",
    "    train_labels.append([1])\n",
    "files = glob.glob (\"/home/palak/CV-A2/output/train/2/*.jpg\")\n",
    "for myFile in files:\n",
    "    image = cv2.imread (myFile)\n",
    "    train.append (image)\n",
    "    train_labels.append([2])\n"
   ]
  },
  {
   "cell_type": "code",
   "execution_count": 25,
   "metadata": {},
   "outputs": [],
   "source": [
    "train = np.array(train) #as mnist\n",
    "train_labels = np.array(train_labels) #as mnist"
   ]
  },
  {
   "cell_type": "code",
   "execution_count": 15,
   "metadata": {},
   "outputs": [
    {
     "data": {
      "text/plain": [
       "array([[0],\n",
       "       [0],\n",
       "       [0],\n",
       "       ...,\n",
       "       [2],\n",
       "       [2],\n",
       "       [2]])"
      ]
     },
     "execution_count": 15,
     "metadata": {},
     "output_type": "execute_result"
    }
   ],
   "source": [
    "train_labels"
   ]
  },
  {
   "cell_type": "code",
   "execution_count": 26,
   "metadata": {},
   "outputs": [],
   "source": [
    "np.save('tranx1.npy', train)"
   ]
  },
  {
   "cell_type": "code",
   "execution_count": 27,
   "metadata": {},
   "outputs": [],
   "source": [
    "np.save('trany1.npy',train_labels)"
   ]
  },
  {
   "cell_type": "code",
   "execution_count": 28,
   "metadata": {},
   "outputs": [],
   "source": [
    "#npy for validation data\n",
    "val = []\n",
    "val_labels = []\n",
    "files = glob.glob (\"/home/palak/CV-A2/output/val/0/*.jpg\") # your image path\n",
    "for myFile in files:\n",
    "    image = cv2.imread (myFile)\n",
    "    val.append (image)\n",
    "    val_labels.append([0])\n",
    "files = glob.glob (\"/home/palak/CV-A2/output/val/1/*.jpg\")\n",
    "for myFile in files:\n",
    "    image = cv2.imread (myFile)\n",
    "    val.append (image)\n",
    "    val_labels.append([1])\n",
    "files = glob.glob (\"/home/palak/CV-A2/output/val/2/*.jpg\")\n",
    "for myFile in files:\n",
    "    image = cv2.imread (myFile)\n",
    "    val.append (image)\n",
    "    val_labels.append([2])\n"
   ]
  },
  {
   "cell_type": "code",
   "execution_count": 29,
   "metadata": {},
   "outputs": [],
   "source": [
    "val = np.array(val) #as mnist\n",
    "val_labels = np.array(val_labels) #as mnist"
   ]
  },
  {
   "cell_type": "code",
   "execution_count": 30,
   "metadata": {},
   "outputs": [],
   "source": [
    "np.save('valx1.npy', val)\n",
    "np.save('valy1.npy',val_labels)"
   ]
  },
  {
   "cell_type": "code",
   "execution_count": 31,
   "metadata": {},
   "outputs": [],
   "source": [
    "#npy for test data\n",
    "test = []\n",
    "test_labels = []\n",
    "files = glob.glob (\"/home/palak/CV-A2/output/test/0/*.jpg\") # your image path\n",
    "for myFile in files:\n",
    "    image = cv2.imread (myFile)\n",
    "    test.append (image)\n",
    "    test_labels.append([0])\n",
    "files = glob.glob (\"/home/palak/CV-A2/output/test/1/*.jpg\")\n",
    "for myFile in files:\n",
    "    image = cv2.imread (myFile)\n",
    "    test.append (image)\n",
    "    test_labels.append([1])\n",
    "files = glob.glob (\"/home/palak/CV-A2/output/test/2/*.jpg\")\n",
    "for myFile in files:\n",
    "    image = cv2.imread (myFile)\n",
    "    test.append (image)\n",
    "    test_labels.append([2])\n"
   ]
  },
  {
   "cell_type": "code",
   "execution_count": 32,
   "metadata": {},
   "outputs": [],
   "source": [
    "test = np.array(test) #as mnist\n",
    "test_labels = np.array(test_labels) #as mnist"
   ]
  },
  {
   "cell_type": "code",
   "execution_count": 33,
   "metadata": {},
   "outputs": [],
   "source": [
    "np.save('testx1.npy', test)\n",
    "np.save('testy1.npy',test_labels)"
   ]
  }
 ],
 "metadata": {
  "kernelspec": {
   "display_name": "Python 3",
   "language": "python",
   "name": "python3"
  },
  "language_info": {
   "codemirror_mode": {
    "name": "ipython",
    "version": 3
   },
   "file_extension": ".py",
   "mimetype": "text/x-python",
   "name": "python",
   "nbconvert_exporter": "python",
   "pygments_lexer": "ipython3",
   "version": "3.7.4"
  }
 },
 "nbformat": 4,
 "nbformat_minor": 2
}
