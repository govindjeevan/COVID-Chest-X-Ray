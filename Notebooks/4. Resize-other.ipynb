{
 "cells": [
  {
   "cell_type": "code",
   "execution_count": 1,
   "metadata": {},
   "outputs": [
    {
     "name": "stderr",
     "output_type": "stream",
     "text": [
      "Using TensorFlow backend.\n"
     ]
    }
   ],
   "source": [
    "import numpy as np\n",
    "import cv2\n",
    "from sklearn.preprocessing import OneHotEncoder\n",
    "from keras.utils import to_categorical\n",
    "import glob"
   ]
  },
  {
   "cell_type": "code",
   "execution_count": 4,
   "metadata": {},
   "outputs": [],
   "source": [
    "files = glob.glob (\"/home/palak/CV-A2/Input/1/*.jpg\")\n",
    "i=0\n",
    "for myFile in files:\n",
    "    image = cv2.imread (myFile)\n",
    "    image = cv2.resize(image, (300, 300))\n",
    "    name = 'Resize/1/'+str(i)+'.jpg'\n",
    "    cv2.imwrite(name, image)\n",
    "    i=i+1\n",
    "files = glob.glob (\"/home/palak/CV-A2/Input/2/*.jpg\")\n",
    "i=0\n",
    "for myFile in files:\n",
    "    image = cv2.imread (myFile)\n",
    "    image = cv2.resize(image, (300, 300))\n",
    "    name = 'Resize/2/'+str(i)+'.jpg'\n",
    "    cv2.imwrite(name, image)\n",
    "    i=i+1\n",
    "    \n"
   ]
  },
  {
   "cell_type": "code",
   "execution_count": null,
   "metadata": {},
   "outputs": [],
   "source": []
  }
 ],
 "metadata": {
  "kernelspec": {
   "display_name": "Python 3",
   "language": "python",
   "name": "python3"
  },
  "language_info": {
   "codemirror_mode": {
    "name": "ipython",
    "version": 3
   },
   "file_extension": ".py",
   "mimetype": "text/x-python",
   "name": "python",
   "nbconvert_exporter": "python",
   "pygments_lexer": "ipython3",
   "version": "3.7.4"
  }
 },
 "nbformat": 4,
 "nbformat_minor": 2
}
